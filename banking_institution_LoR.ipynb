{
 "cells": [
  {
   "cell_type": "markdown",
   "id": "27075db1",
   "metadata": {},
   "source": [
    "## Marketing campaigns banking institution\n",
    "\n",
    "In this dataset we using Logistic regression which is machine learning classification algorithim that is used to predicti the probability of the categorical dependent variable 'y' variable, In logistic regression, the dependent variable is Y and the data in the form of a binary variable that contains values as 1 or 0 ( yes, ture or No, False)."
   ]
  },
  {
   "cell_type": "code",
   "execution_count": 1,
   "id": "59a8d278",
   "metadata": {},
   "outputs": [],
   "source": [
    "# Importing the libraries\n",
    "\n",
    "import os\n",
    "import pandas as pd\n",
    "import numpy as np\n",
    "from sklearn import preprocessing\n",
    "import matplotlib.pyplot as plt \n",
    "plt.rc(\"font\", size=14)\n",
    "from sklearn.linear_model import LogisticRegression\n",
    "from sklearn.model_selection import train_test_split\n",
    "import seaborn as sns\n",
    "sns.set(style=\"white\")\n",
    "sns.set(style=\"whitegrid\", color_codes=True)"
   ]
  },
  {
   "cell_type": "code",
   "execution_count": 2,
   "id": "e5802032",
   "metadata": {
    "scrolled": true
   },
   "outputs": [
    {
     "name": "stdout",
     "output_type": "stream",
     "text": [
      "(41188, 21)\n",
      "['age', 'job', 'marital', 'education', 'default', 'housing', 'loan', 'contact', 'month', 'day_of_week', 'duration', 'campaign', 'pdays', 'previous', 'poutcome', 'emp_var_rate', 'cons_price_idx', 'cons_conf_idx', 'euribor3m', 'nr_employed', 'y']\n"
     ]
    }
   ],
   "source": [
    "# Importing the dataset\n",
    "\n",
    "os.chdir(r'D:\\for github\\data\\New folder\\LoR_Case_1.1')\n",
    "os.getcwd()\n",
    "data_org = pd.read_csv('Banking.csv')\n",
    "#data_org.head()\n",
    "data = data_org\n",
    "print(data.shape)\n",
    "print(list(data.columns))"
   ]
  },
  {
   "cell_type": "markdown",
   "id": "d17f4d48",
   "metadata": {},
   "source": [
    "####  The classification goal is to predict whether the client will subscribe or unsubscribe (1/0) to a term deposit (variable y)."
   ]
  },
  {
   "cell_type": "markdown",
   "id": "53805a73",
   "metadata": {},
   "source": [
    "### Cheacking the deatils of the data\n",
    "\n",
    "This method gives us a Introduction about the Data, like- rangeIndex, no. of rows, no. of columns, data types of column entries (integer, object, etc)."
   ]
  },
  {
   "cell_type": "code",
   "execution_count": 3,
   "id": "cafd689c",
   "metadata": {},
   "outputs": [
    {
     "name": "stdout",
     "output_type": "stream",
     "text": [
      "<class 'pandas.core.frame.DataFrame'>\n",
      "RangeIndex: 41188 entries, 0 to 41187\n",
      "Data columns (total 21 columns):\n",
      " #   Column          Non-Null Count  Dtype  \n",
      "---  ------          --------------  -----  \n",
      " 0   age             41188 non-null  int64  \n",
      " 1   job             41188 non-null  object \n",
      " 2   marital         41188 non-null  object \n",
      " 3   education       41188 non-null  object \n",
      " 4   default         41188 non-null  object \n",
      " 5   housing         41188 non-null  object \n",
      " 6   loan            41188 non-null  object \n",
      " 7   contact         41188 non-null  object \n",
      " 8   month           41188 non-null  object \n",
      " 9   day_of_week     41188 non-null  object \n",
      " 10  duration        41188 non-null  int64  \n",
      " 11  campaign        41188 non-null  int64  \n",
      " 12  pdays           41188 non-null  int64  \n",
      " 13  previous        41188 non-null  int64  \n",
      " 14  poutcome        41188 non-null  object \n",
      " 15  emp_var_rate    41188 non-null  float64\n",
      " 16  cons_price_idx  41188 non-null  float64\n",
      " 17  cons_conf_idx   41188 non-null  float64\n",
      " 18  euribor3m       41188 non-null  float64\n",
      " 19  nr_employed     41188 non-null  float64\n",
      " 20  y               41188 non-null  int64  \n",
      "dtypes: float64(5), int64(6), object(10)\n",
      "memory usage: 6.6+ MB\n"
     ]
    }
   ],
   "source": [
    "data.info()"
   ]
  },
  {
   "cell_type": "code",
   "execution_count": 4,
   "id": "c885e8ec",
   "metadata": {
    "scrolled": true
   },
   "outputs": [
    {
     "data": {
      "text/plain": [
       "0    36548\n",
       "1     4640\n",
       "Name: y, dtype: int64"
      ]
     },
     "execution_count": 4,
     "metadata": {},
     "output_type": "execute_result"
    }
   ],
   "source": [
    "# check Value counts for Y\n",
    "data['y'].value_counts()    #y - has the client subscribed a term deposit? (binary: 'yes','no')"
   ]
  },
  {
   "cell_type": "markdown",
   "id": "8b092feb",
   "metadata": {},
   "source": [
    "#### From the above output we can conclude that classes are imbalanced because there are high diffrences we can see between subscribe or no-subscribe, so let’s find some more clues by doing more explorations."
   ]
  },
  {
   "cell_type": "code",
   "execution_count": 5,
   "id": "8d9ec1eb",
   "metadata": {
    "scrolled": true
   },
   "outputs": [
    {
     "data": {
      "text/plain": [
       "age               0\n",
       "job               0\n",
       "marital           0\n",
       "education         0\n",
       "default           0\n",
       "housing           0\n",
       "loan              0\n",
       "contact           0\n",
       "month             0\n",
       "day_of_week       0\n",
       "duration          0\n",
       "campaign          0\n",
       "pdays             0\n",
       "previous          0\n",
       "poutcome          0\n",
       "emp_var_rate      0\n",
       "cons_price_idx    0\n",
       "cons_conf_idx     0\n",
       "euribor3m         0\n",
       "nr_employed       0\n",
       "y                 0\n",
       "dtype: int64"
      ]
     },
     "execution_count": 5,
     "metadata": {},
     "output_type": "execute_result"
    }
   ],
   "source": [
    "data.isnull().sum() #gives the number of missing values for each variable"
   ]
  },
  {
   "cell_type": "markdown",
   "id": "d9e4aeb8",
   "metadata": {},
   "source": [
    "### Visualizations\n",
    "\n",
    "we the help of visualizations we are try to finding out some more insights."
   ]
  },
  {
   "cell_type": "code",
   "execution_count": 6,
   "id": "438ae83c",
   "metadata": {},
   "outputs": [
    {
     "data": {
      "image/png": "[encoded data removed]",
      "text/plain": [
       "<Figure size 432x288 with 1 Axes>"
      ]
     },
     "metadata": {},
     "output_type": "display_data"
    },
    {
     "data": {
      "text/plain": [
       "0.8873458288821987"
      ]
     },
     "execution_count": 6,
     "metadata": {},
     "output_type": "execute_result"
    }
   ],
   "source": [
    "#Barplot for the dependent variable\n",
    "sns.countplot(x='y',data=data, palette='hls')\n",
    "plt.show()\n",
    "len(data[data['y']==1])/len(data)\n",
    "len(data[data['y']==0])/len(data)"
   ]
  },
  {
   "cell_type": "markdown",
   "id": "c6852fbc",
   "metadata": {},
   "source": [
    "In the above output we can clearly seen here, classes are imbalanced because there are high diffrences and ratio is 89%-11% for the subscribe( 1 ) or no-subscribe( 0 ) datavalues, so let’s do some more explorations."
   ]
  },
  {
   "cell_type": "code",
   "execution_count": 7,
   "id": "7144c2df",
   "metadata": {},
   "outputs": [
    {
     "data": {
      "image/png": "[encoded data removed]",
      "text/plain": [
       "<Figure size 432x288 with 1 Axes>"
      ]
     },
     "metadata": {},
     "output_type": "display_data"
    }
   ],
   "source": [
    "#Customer job distribution\n",
    "sns.countplot(y=\"job\", data=data)\n",
    "plt.show()"
   ]
  },
  {
   "cell_type": "markdown",
   "id": "9f465b87",
   "metadata": {},
   "source": [
    "From the Job distribution, we can assume the job title can be a good predictor for the outcome variable."
   ]
  },
  {
   "cell_type": "code",
   "execution_count": 8,
   "id": "30bb63a9",
   "metadata": {},
   "outputs": [
    {
     "data": {
      "image/png": "[encoded data removed]",
      "text/plain": [
       "<Figure size 432x288 with 1 Axes>"
      ]
     },
     "metadata": {},
     "output_type": "display_data"
    }
   ],
   "source": [
    "#Customer marital status distribution\n",
    "sns.countplot(x=\"marital\", data=data)\n",
    "plt.show()"
   ]
  },
  {
   "cell_type": "code",
   "execution_count": 9,
   "id": "687ef2e6",
   "metadata": {},
   "outputs": [
    {
     "data": {
      "image/png": "[encoded data removed]",
      "text/plain": [
       "<Figure size 432x288 with 1 Axes>"
      ]
     },
     "metadata": {},
     "output_type": "display_data"
    }
   ],
   "source": [
    "#Barplot for credit in default\n",
    "sns.countplot(x=\"default\", data=data)\n",
    "plt.show()"
   ]
  },
  {
   "cell_type": "code",
   "execution_count": 10,
   "id": "036b3fdd",
   "metadata": {},
   "outputs": [
    {
     "data": {
      "image/png": "[encoded data removed]",
      "text/plain": [
       "<Figure size 432x288 with 1 Axes>"
      ]
     },
     "metadata": {},
     "output_type": "display_data"
    }
   ],
   "source": [
    "#Barplot for housing loan\n",
    "sns.countplot(x=\"housing\", data=data)\n",
    "plt.show()"
   ]
  },
  {
   "cell_type": "code",
   "execution_count": 11,
   "id": "a1ef5d2e",
   "metadata": {},
   "outputs": [
    {
     "data": {
      "image/png": "[encoded data removed]",
      "text/plain": [
       "<Figure size 432x288 with 1 Axes>"
      ]
     },
     "metadata": {},
     "output_type": "display_data"
    }
   ],
   "source": [
    "#Barplot for personal loan\n",
    "sns.countplot(x=\"loan\", data=data)\n",
    "plt.show()"
   ]
  },
  {
   "cell_type": "code",
   "execution_count": 12,
   "id": "254b1cee",
   "metadata": {},
   "outputs": [
    {
     "data": {
      "image/png": "[encoded data removed]",
      "text/plain": [
       "<Figure size 432x288 with 1 Axes>"
      ]
     },
     "metadata": {},
     "output_type": "display_data"
    }
   ],
   "source": [
    "#Barplot for previous marketing loan outcome\n",
    "sns.countplot(x=\"poutcome\", data=data)\n",
    "plt.show()"
   ]
  },
  {
   "cell_type": "code",
   "execution_count": 13,
   "id": "8d84e6a2",
   "metadata": {},
   "outputs": [],
   "source": [
    "#Dropping the redant columns\n",
    "\n",
    "data.drop(data.columns[[0, 3, 7, 8, 9, 10, 11, 12, 13, 15, 16, 17, 18, 19]], axis=1, inplace=True)"
   ]
  },
  {
   "cell_type": "code",
   "execution_count": 14,
   "id": "408b9fe9",
   "metadata": {},
   "outputs": [],
   "source": [
    "#Creating Dummy Variables\n",
    "\n",
    "data2 = pd.get_dummies(data, columns =['job', 'marital', 'default', 'housing', 'loan', 'poutcome'])"
   ]
  },
  {
   "cell_type": "code",
   "execution_count": 15,
   "id": "99a3435e",
   "metadata": {},
   "outputs": [
    {
     "data": {
      "text/plain": [
       "Index(['y', 'job_admin.', 'job_blue-collar', 'job_entrepreneur',\n",
       "       'job_housemaid', 'job_management', 'job_retired', 'job_self-employed',\n",
       "       'job_services', 'job_student', 'job_technician', 'job_unemployed',\n",
       "       'marital_divorced', 'marital_married', 'marital_single', 'default_no',\n",
       "       'default_yes', 'housing_no', 'housing_yes', 'loan_no', 'loan_yes',\n",
       "       'poutcome_failure', 'poutcome_nonexistent', 'poutcome_success'],\n",
       "      dtype='object')"
      ]
     },
     "execution_count": 15,
     "metadata": {},
     "output_type": "execute_result"
    }
   ],
   "source": [
    "#Drop the unknown columns\n",
    "\n",
    "data2.drop(data2.columns[[12, 16, 18, 21, 24]], axis=1, inplace=True)\n",
    "data2.columns"
   ]
  },
  {
   "cell_type": "code",
   "execution_count": 16,
   "id": "20c95254",
   "metadata": {},
   "outputs": [
    {
     "data": {
      "image/png": "[encoded data removed]",
      "text/plain": [
       "<Figure size 432x288 with 2 Axes>"
      ]
     },
     "metadata": {},
     "output_type": "display_data"
    }
   ],
   "source": [
    "#Check the independence between the independent variables\n",
    "\n",
    "sns.heatmap(data2.corr())\n",
    "plt.show()"
   ]
  },
  {
   "cell_type": "code",
   "execution_count": 17,
   "id": "5f89872e",
   "metadata": {},
   "outputs": [
    {
     "name": "stdout",
     "output_type": "stream",
     "text": [
      "       job_admin.  job_blue-collar  job_entrepreneur  job_housemaid  \\\n",
      "0               0                1                 0              0   \n",
      "1               0                0                 0              0   \n",
      "2               0                0                 0              0   \n",
      "3               0                0                 0              0   \n",
      "4               0                0                 0              0   \n",
      "...           ...              ...               ...            ...   \n",
      "41183           0                0                 0              0   \n",
      "41184           0                0                 0              1   \n",
      "41185           1                0                 0              0   \n",
      "41186           0                0                 0              0   \n",
      "41187           0                0                 0              0   \n",
      "\n",
      "       job_management  job_retired  job_self-employed  job_services  \\\n",
      "0                   0            0                  0             0   \n",
      "1                   0            0                  0             0   \n",
      "2                   1            0                  0             0   \n",
      "3                   0            0                  0             1   \n",
      "4                   0            1                  0             0   \n",
      "...               ...          ...                ...           ...   \n",
      "41183               0            1                  0             0   \n",
      "41184               0            0                  0             0   \n",
      "41185               0            0                  0             0   \n",
      "41186               0            0                  0             0   \n",
      "41187               0            0                  0             0   \n",
      "\n",
      "       job_student  job_technician  ...  marital_single  default_no  \\\n",
      "0                0               0  ...               0           0   \n",
      "1                0               1  ...               0           1   \n",
      "2                0               0  ...               1           1   \n",
      "3                0               0  ...               0           1   \n",
      "4                0               0  ...               0           1   \n",
      "...            ...             ...  ...             ...         ...   \n",
      "41183            0               0  ...               0           0   \n",
      "41184            0               0  ...               0           0   \n",
      "41185            0               0  ...               1           0   \n",
      "41186            0               1  ...               0           1   \n",
      "41187            1               0  ...               1           1   \n",
      "\n",
      "       default_yes  housing_no  housing_yes  loan_no  loan_yes  \\\n",
      "0                0           0            1        1         0   \n",
      "1                0           1            0        1         0   \n",
      "2                0           0            1        1         0   \n",
      "3                0           1            0        1         0   \n",
      "4                0           0            1        1         0   \n",
      "...            ...         ...          ...      ...       ...   \n",
      "41183            0           1            0        0         1   \n",
      "41184            0           1            0        1         0   \n",
      "41185            0           0            1        0         1   \n",
      "41186            0           1            0        0         1   \n",
      "41187            0           1            0        1         0   \n",
      "\n",
      "       poutcome_failure  poutcome_nonexistent  poutcome_success  \n",
      "0                     0                     1                 0  \n",
      "1                     0                     1                 0  \n",
      "2                     0                     0                 1  \n",
      "3                     0                     1                 0  \n",
      "4                     0                     0                 1  \n",
      "...                 ...                   ...               ...  \n",
      "41183                 0                     1                 0  \n",
      "41184                 0                     1                 0  \n",
      "41185                 0                     1                 0  \n",
      "41186                 0                     1                 0  \n",
      "41187                 0                     1                 0  \n",
      "\n",
      "[41188 rows x 23 columns]\n",
      "0        0\n",
      "1        0\n",
      "2        1\n",
      "3        0\n",
      "4        1\n",
      "        ..\n",
      "41183    0\n",
      "41184    0\n",
      "41185    0\n",
      "41186    0\n",
      "41187    0\n",
      "Name: y, Length: 41188, dtype: int64\n"
     ]
    }
   ],
   "source": [
    "# Split the data into training and test sets\n",
    "\n",
    "X = data2.iloc[:,1:]\n",
    "print(X)\n",
    "y = data2.iloc[:,0]\n",
    "print(y)"
   ]
  },
  {
   "cell_type": "code",
   "execution_count": 18,
   "id": "fe5ff1bd",
   "metadata": {},
   "outputs": [
    {
     "name": "stdout",
     "output_type": "stream",
     "text": [
      "       job_admin.  job_blue-collar  job_entrepreneur  job_housemaid  \\\n",
      "10685           0                0                 1              0   \n",
      "224             0                0                 0              0   \n",
      "29638           0                1                 0              0   \n",
      "4804            1                0                 0              0   \n",
      "11614           0                0                 0              1   \n",
      "...           ...              ...               ...            ...   \n",
      "20757           0                1                 0              0   \n",
      "32103           0                1                 0              0   \n",
      "30403           0                0                 0              0   \n",
      "21243           0                1                 0              0   \n",
      "2732            0                0                 0              0   \n",
      "\n",
      "       job_management  job_retired  job_self-employed  job_services  \\\n",
      "10685               0            0                  0             0   \n",
      "224                 1            0                  0             0   \n",
      "29638               0            0                  0             0   \n",
      "4804                0            0                  0             0   \n",
      "11614               0            0                  0             0   \n",
      "...               ...          ...                ...           ...   \n",
      "20757               0            0                  0             0   \n",
      "32103               0            0                  0             0   \n",
      "30403               0            0                  0             0   \n",
      "21243               0            0                  0             0   \n",
      "2732                0            0                  0             0   \n",
      "\n",
      "       job_student  job_technician  ...  marital_single  default_no  \\\n",
      "10685            0               0  ...               1           1   \n",
      "224              0               0  ...               0           0   \n",
      "29638            0               0  ...               1           1   \n",
      "4804             0               0  ...               0           1   \n",
      "11614            0               0  ...               0           1   \n",
      "...            ...             ...  ...             ...         ...   \n",
      "20757            0               0  ...               0           1   \n",
      "32103            0               0  ...               1           1   \n",
      "30403            0               1  ...               0           1   \n",
      "21243            0               0  ...               0           1   \n",
      "2732             0               1  ...               0           1   \n",
      "\n",
      "       default_yes  housing_no  housing_yes  loan_no  loan_yes  \\\n",
      "10685            0           1            0        1         0   \n",
      "224              0           1            0        1         0   \n",
      "29638            0           0            1        0         1   \n",
      "4804             0           1            0        0         1   \n",
      "11614            0           1            0        1         0   \n",
      "...            ...         ...          ...      ...       ...   \n",
      "20757            0           0            1        0         1   \n",
      "32103            0           1            0        0         1   \n",
      "30403            0           1            0        1         0   \n",
      "21243            0           1            0        1         0   \n",
      "2732             0           1            0        1         0   \n",
      "\n",
      "       poutcome_failure  poutcome_nonexistent  poutcome_success  \n",
      "10685                 0                     1                 0  \n",
      "224                   0                     1                 0  \n",
      "29638                 0                     1                 0  \n",
      "4804                  0                     1                 0  \n",
      "11614                 0                     1                 0  \n",
      "...                 ...                   ...               ...  \n",
      "20757                 0                     1                 0  \n",
      "32103                 0                     1                 0  \n",
      "30403                 0                     1                 0  \n",
      "21243                 0                     1                 0  \n",
      "2732                  0                     1                 0  \n",
      "\n",
      "[30891 rows x 23 columns]\n",
      "       job_admin.  job_blue-collar  job_entrepreneur  job_housemaid  \\\n",
      "15500           0                1                 0              0   \n",
      "29034           0                0                 0              0   \n",
      "11199           0                1                 0              0   \n",
      "22247           1                0                 0              0   \n",
      "27180           0                0                 0              1   \n",
      "...           ...              ...               ...            ...   \n",
      "33745           1                0                 0              0   \n",
      "8263            1                0                 0              0   \n",
      "24069           0                1                 0              0   \n",
      "15531           1                0                 0              0   \n",
      "31551           1                0                 0              0   \n",
      "\n",
      "       job_management  job_retired  job_self-employed  job_services  \\\n",
      "15500               0            0                  0             0   \n",
      "29034               0            0                  0             0   \n",
      "11199               0            0                  0             0   \n",
      "22247               0            0                  0             0   \n",
      "27180               0            0                  0             0   \n",
      "...               ...          ...                ...           ...   \n",
      "33745               0            0                  0             0   \n",
      "8263                0            0                  0             0   \n",
      "24069               0            0                  0             0   \n",
      "15531               0            0                  0             0   \n",
      "31551               0            0                  0             0   \n",
      "\n",
      "       job_student  job_technician  ...  marital_single  default_no  \\\n",
      "15500            0               0  ...               0           1   \n",
      "29034            0               1  ...               0           1   \n",
      "11199            0               0  ...               1           1   \n",
      "22247            0               0  ...               0           1   \n",
      "27180            0               0  ...               0           1   \n",
      "...            ...             ...  ...             ...         ...   \n",
      "33745            0               0  ...               0           1   \n",
      "8263             0               0  ...               0           1   \n",
      "24069            0               0  ...               0           0   \n",
      "15531            0               0  ...               0           1   \n",
      "31551            0               0  ...               1           1   \n",
      "\n",
      "       default_yes  housing_no  housing_yes  loan_no  loan_yes  \\\n",
      "15500            0           0            1        1         0   \n",
      "29034            0           1            0        1         0   \n",
      "11199            0           1            0        1         0   \n",
      "22247            0           1            0        1         0   \n",
      "27180            0           1            0        1         0   \n",
      "...            ...         ...          ...      ...       ...   \n",
      "33745            0           1            0        1         0   \n",
      "8263             0           1            0        1         0   \n",
      "24069            0           1            0        1         0   \n",
      "15531            0           1            0        1         0   \n",
      "31551            0           1            0        1         0   \n",
      "\n",
      "       poutcome_failure  poutcome_nonexistent  poutcome_success  \n",
      "15500                 0                     1                 0  \n",
      "29034                 1                     0                 0  \n",
      "11199                 0                     1                 0  \n",
      "22247                 0                     1                 0  \n",
      "27180                 0                     1                 0  \n",
      "...                 ...                   ...               ...  \n",
      "33745                 0                     1                 0  \n",
      "8263                  0                     1                 0  \n",
      "24069                 0                     1                 0  \n",
      "15531                 0                     1                 0  \n",
      "31551                 0                     1                 0  \n",
      "\n",
      "[10297 rows x 23 columns]\n",
      "10685    1\n",
      "224      0\n",
      "29638    0\n",
      "4804     0\n",
      "11614    0\n",
      "        ..\n",
      "20757    0\n",
      "32103    0\n",
      "30403    1\n",
      "21243    0\n",
      "2732     0\n",
      "Name: y, Length: 30891, dtype: int64\n",
      "15500    0\n",
      "29034    0\n",
      "11199    0\n",
      "22247    0\n",
      "27180    0\n",
      "        ..\n",
      "33745    1\n",
      "8263     0\n",
      "24069    1\n",
      "15531    0\n",
      "31551    0\n",
      "Name: y, Length: 10297, dtype: int64\n"
     ]
    }
   ],
   "source": [
    "X_train, X_test, y_train, y_test = train_test_split(X, y, random_state=0)\n",
    "print(X_train)\n",
    "print(X_test)\n",
    "print(y_train)\n",
    "print(y_test)"
   ]
  },
  {
   "cell_type": "code",
   "execution_count": 19,
   "id": "cd1f18a0",
   "metadata": {},
   "outputs": [
    {
     "data": {
      "text/plain": [
       "(30891, 23)"
      ]
     },
     "execution_count": 19,
     "metadata": {},
     "output_type": "execute_result"
    }
   ],
   "source": [
    "X_train.shape"
   ]
  },
  {
   "cell_type": "code",
   "execution_count": 20,
   "id": "6dbde419",
   "metadata": {},
   "outputs": [
    {
     "name": "stdout",
     "output_type": "stream",
     "text": [
      "Index(['job_admin.', 'job_blue-collar', 'job_entrepreneur', 'job_housemaid',\n",
      "       'job_management', 'job_retired', 'job_self-employed', 'job_services',\n",
      "       'job_student', 'job_technician', 'job_unemployed', 'marital_divorced',\n",
      "       'marital_married', 'marital_single', 'default_no', 'default_yes',\n",
      "       'housing_no', 'housing_yes', 'loan_no', 'loan_yes', 'poutcome_failure',\n",
      "       'poutcome_nonexistent', 'poutcome_success'],\n",
      "      dtype='object')\n"
     ]
    }
   ],
   "source": [
    "columns = X_train.columns\n",
    "print (columns)"
   ]
  },
  {
   "cell_type": "markdown",
   "id": "416fcc6c",
   "metadata": {},
   "source": [
    "### SMOTE - Synthetic Minority Oversampling Technique for solveing the problem of Imbalanced Data"
   ]
  },
  {
   "cell_type": "code",
   "execution_count": 21,
   "id": "e491d194",
   "metadata": {},
   "outputs": [
    {
     "name": "stdout",
     "output_type": "stream",
     "text": [
      "       job_admin.  job_blue-collar  job_entrepreneur  job_housemaid  \\\n",
      "0               0                1                 0              0   \n",
      "1               0                0                 0              0   \n",
      "2               0                0                 0              0   \n",
      "3               0                0                 0              0   \n",
      "4               0                0                 0              0   \n",
      "...           ...              ...               ...            ...   \n",
      "41183           0                0                 0              0   \n",
      "41184           0                0                 0              1   \n",
      "41185           1                0                 0              0   \n",
      "41186           0                0                 0              0   \n",
      "41187           0                0                 0              0   \n",
      "\n",
      "       job_management  job_retired  job_self-employed  job_services  \\\n",
      "0                   0            0                  0             0   \n",
      "1                   0            0                  0             0   \n",
      "2                   1            0                  0             0   \n",
      "3                   0            0                  0             1   \n",
      "4                   0            1                  0             0   \n",
      "...               ...          ...                ...           ...   \n",
      "41183               0            1                  0             0   \n",
      "41184               0            0                  0             0   \n",
      "41185               0            0                  0             0   \n",
      "41186               0            0                  0             0   \n",
      "41187               0            0                  0             0   \n",
      "\n",
      "       job_student  job_technician  ...  default_yes  housing_no  \\\n",
      "0                0               0  ...            0           0   \n",
      "1                0               1  ...            0           1   \n",
      "2                0               0  ...            0           0   \n",
      "3                0               0  ...            0           1   \n",
      "4                0               0  ...            0           0   \n",
      "...            ...             ...  ...          ...         ...   \n",
      "41183            0               0  ...            0           1   \n",
      "41184            0               0  ...            0           1   \n",
      "41185            0               0  ...            0           0   \n",
      "41186            0               1  ...            0           1   \n",
      "41187            1               0  ...            0           1   \n",
      "\n",
      "       housing_unknown  housing_yes  loan_no  loan_unknown  loan_yes  \\\n",
      "0                    0            1        1             0         0   \n",
      "1                    0            0        1             0         0   \n",
      "2                    0            1        1             0         0   \n",
      "3                    0            0        1             0         0   \n",
      "4                    0            1        1             0         0   \n",
      "...                ...          ...      ...           ...       ...   \n",
      "41183                0            0        0             0         1   \n",
      "41184                0            0        1             0         0   \n",
      "41185                0            1        0             0         1   \n",
      "41186                0            0        0             0         1   \n",
      "41187                0            0        1             0         0   \n",
      "\n",
      "       poutcome_failure  poutcome_nonexistent  poutcome_success  \n",
      "0                     0                     1                 0  \n",
      "1                     0                     1                 0  \n",
      "2                     0                     0                 1  \n",
      "3                     0                     1                 0  \n",
      "4                     0                     0                 1  \n",
      "...                 ...                   ...               ...  \n",
      "41183                 0                     1                 0  \n",
      "41184                 0                     1                 0  \n",
      "41185                 0                     1                 0  \n",
      "41186                 0                     1                 0  \n",
      "41187                 0                     1                 0  \n",
      "\n",
      "[41188 rows x 28 columns]\n",
      "       y\n",
      "0      0\n",
      "1      0\n",
      "2      1\n",
      "3      0\n",
      "4      1\n",
      "...   ..\n",
      "41183  0\n",
      "41184  0\n",
      "41185  0\n",
      "41186  0\n",
      "41187  0\n",
      "\n",
      "[41188 rows x 1 columns]\n"
     ]
    }
   ],
   "source": [
    "#Works by creating synthetic samples from the minor class (subscription) instead of creating copies.\n",
    "#Randomly choosing one of the k-nearest-neighbors and using it to create a similar, but randomly tweaked, new observations.\n",
    "\n",
    "\n",
    "data_new=pd.get_dummies(data_org, columns =['job','marital','default','housing','loan','poutcome'])\n",
    "data_new.columns.values\n",
    "\n",
    "\n",
    "X = data_new.loc[:, data_new.columns != 'y']\n",
    "print(X)\n",
    "y = data_new.loc[:, data_new.columns == 'y']\n",
    "print(y)"
   ]
  },
  {
   "cell_type": "code",
   "execution_count": 22,
   "id": "4753e674",
   "metadata": {},
   "outputs": [
    {
     "name": "stdout",
     "output_type": "stream",
     "text": [
      "       job_admin.  job_blue-collar  job_entrepreneur  job_housemaid  \\\n",
      "0               0                1                 0              0   \n",
      "1               0                0                 0              0   \n",
      "2               0                0                 0              0   \n",
      "3               0                0                 0              0   \n",
      "4               0                0                 0              0   \n",
      "...           ...              ...               ...            ...   \n",
      "41183           0                0                 0              0   \n",
      "41184           0                0                 0              1   \n",
      "41185           1                0                 0              0   \n",
      "41186           0                0                 0              0   \n",
      "41187           0                0                 0              0   \n",
      "\n",
      "       job_management  job_retired  job_self-employed  job_services  \\\n",
      "0                   0            0                  0             0   \n",
      "1                   0            0                  0             0   \n",
      "2                   1            0                  0             0   \n",
      "3                   0            0                  0             1   \n",
      "4                   0            1                  0             0   \n",
      "...               ...          ...                ...           ...   \n",
      "41183               0            1                  0             0   \n",
      "41184               0            0                  0             0   \n",
      "41185               0            0                  0             0   \n",
      "41186               0            0                  0             0   \n",
      "41187               0            0                  0             0   \n",
      "\n",
      "       job_student  job_technician  ...  marital_single  default_no  \\\n",
      "0                0               0  ...               0           0   \n",
      "1                0               1  ...               0           1   \n",
      "2                0               0  ...               1           1   \n",
      "3                0               0  ...               0           1   \n",
      "4                0               0  ...               0           1   \n",
      "...            ...             ...  ...             ...         ...   \n",
      "41183            0               0  ...               0           0   \n",
      "41184            0               0  ...               0           0   \n",
      "41185            0               0  ...               1           0   \n",
      "41186            0               1  ...               0           1   \n",
      "41187            1               0  ...               1           1   \n",
      "\n",
      "       default_yes  housing_no  housing_yes  loan_no  loan_yes  \\\n",
      "0                0           0            1        1         0   \n",
      "1                0           1            0        1         0   \n",
      "2                0           0            1        1         0   \n",
      "3                0           1            0        1         0   \n",
      "4                0           0            1        1         0   \n",
      "...            ...         ...          ...      ...       ...   \n",
      "41183            0           1            0        0         1   \n",
      "41184            0           1            0        1         0   \n",
      "41185            0           0            1        0         1   \n",
      "41186            0           1            0        0         1   \n",
      "41187            0           1            0        1         0   \n",
      "\n",
      "       poutcome_failure  poutcome_nonexistent  poutcome_success  \n",
      "0                     0                     1                 0  \n",
      "1                     0                     1                 0  \n",
      "2                     0                     0                 1  \n",
      "3                     0                     1                 0  \n",
      "4                     0                     0                 1  \n",
      "...                 ...                   ...               ...  \n",
      "41183                 0                     1                 0  \n",
      "41184                 0                     1                 0  \n",
      "41185                 0                     1                 0  \n",
      "41186                 0                     1                 0  \n",
      "41187                 0                     1                 0  \n",
      "\n",
      "[41188 rows x 23 columns]\n",
      "       y\n",
      "0      0\n",
      "1      0\n",
      "2      1\n",
      "3      0\n",
      "4      1\n",
      "...   ..\n",
      "41183  0\n",
      "41184  0\n",
      "41185  0\n",
      "41186  0\n",
      "41187  0\n",
      "\n",
      "[41188 rows x 1 columns]\n"
     ]
    }
   ],
   "source": [
    "X = data2.loc[:, data2.columns != 'y']\n",
    "print(X)\n",
    "y = data2.loc[:, data2.columns == 'y']\n",
    "print(y)"
   ]
  },
  {
   "cell_type": "code",
   "execution_count": 23,
   "id": "69dc042a",
   "metadata": {},
   "outputs": [
    {
     "name": "stdout",
     "output_type": "stream",
     "text": [
      "       job_admin.  job_blue-collar  job_entrepreneur  job_housemaid  \\\n",
      "31880           0                0                 0              0   \n",
      "38177           1                0                 0              0   \n",
      "2459            0                0                 0              0   \n",
      "756             0                1                 0              0   \n",
      "11275           1                0                 0              0   \n",
      "...           ...              ...               ...            ...   \n",
      "20757           0                1                 0              0   \n",
      "32103           0                1                 0              0   \n",
      "30403           0                0                 0              0   \n",
      "21243           0                1                 0              0   \n",
      "2732            0                0                 0              0   \n",
      "\n",
      "       job_management  job_retired  job_self-employed  job_services  \\\n",
      "31880               0            0                  0             0   \n",
      "38177               0            0                  0             0   \n",
      "2459                1            0                  0             0   \n",
      "756                 0            0                  0             0   \n",
      "11275               0            0                  0             0   \n",
      "...               ...          ...                ...           ...   \n",
      "20757               0            0                  0             0   \n",
      "32103               0            0                  0             0   \n",
      "30403               0            0                  0             0   \n",
      "21243               0            0                  0             0   \n",
      "2732                0            0                  0             0   \n",
      "\n",
      "       job_student  job_technician  ...  marital_single  default_no  \\\n",
      "31880            0               1  ...               1           1   \n",
      "38177            0               0  ...               0           1   \n",
      "2459             0               0  ...               0           1   \n",
      "756              0               0  ...               0           1   \n",
      "11275            0               0  ...               1           1   \n",
      "...            ...             ...  ...             ...         ...   \n",
      "20757            0               0  ...               0           1   \n",
      "32103            0               0  ...               1           1   \n",
      "30403            0               1  ...               0           1   \n",
      "21243            0               0  ...               0           1   \n",
      "2732             0               1  ...               0           1   \n",
      "\n",
      "       default_yes  housing_no  housing_yes  loan_no  loan_yes  \\\n",
      "31880            0           1            0        1         0   \n",
      "38177            0           0            1        1         0   \n",
      "2459             0           0            1        1         0   \n",
      "756              0           1            0        1         0   \n",
      "11275            0           0            1        0         1   \n",
      "...            ...         ...          ...      ...       ...   \n",
      "20757            0           0            1        0         1   \n",
      "32103            0           1            0        0         1   \n",
      "30403            0           1            0        1         0   \n",
      "21243            0           1            0        1         0   \n",
      "2732             0           1            0        1         0   \n",
      "\n",
      "       poutcome_failure  poutcome_nonexistent  poutcome_success  \n",
      "31880                 1                     0                 0  \n",
      "38177                 0                     1                 0  \n",
      "2459                  0                     1                 0  \n",
      "756                   0                     1                 0  \n",
      "11275                 1                     0                 0  \n",
      "...                 ...                   ...               ...  \n",
      "20757                 0                     1                 0  \n",
      "32103                 0                     1                 0  \n",
      "30403                 0                     1                 0  \n",
      "21243                 0                     1                 0  \n",
      "2732                  0                     1                 0  \n",
      "\n",
      "[28831 rows x 23 columns]\n",
      "       job_admin.  job_blue-collar  job_entrepreneur  job_housemaid  \\\n",
      "15500           0                1                 0              0   \n",
      "29034           0                0                 0              0   \n",
      "11199           0                1                 0              0   \n",
      "22247           1                0                 0              0   \n",
      "27180           0                0                 0              1   \n",
      "...           ...              ...               ...            ...   \n",
      "20920           0                0                 0              0   \n",
      "15744           0                0                 0              0   \n",
      "34965           0                0                 1              0   \n",
      "4644            0                0                 1              0   \n",
      "20742           0                0                 0              0   \n",
      "\n",
      "       job_management  job_retired  job_self-employed  job_services  \\\n",
      "15500               0            0                  0             0   \n",
      "29034               0            0                  0             0   \n",
      "11199               0            0                  0             0   \n",
      "22247               0            0                  0             0   \n",
      "27180               0            0                  0             0   \n",
      "...               ...          ...                ...           ...   \n",
      "20920               0            0                  0             1   \n",
      "15744               0            0                  0             0   \n",
      "34965               0            0                  0             0   \n",
      "4644                0            0                  0             0   \n",
      "20742               0            0                  0             0   \n",
      "\n",
      "       job_student  job_technician  ...  marital_single  default_no  \\\n",
      "15500            0               0  ...               0           1   \n",
      "29034            0               1  ...               0           1   \n",
      "11199            0               0  ...               1           1   \n",
      "22247            0               0  ...               0           1   \n",
      "27180            0               0  ...               0           1   \n",
      "...            ...             ...  ...             ...         ...   \n",
      "20920            0               0  ...               0           1   \n",
      "15744            0               1  ...               0           1   \n",
      "34965            0               0  ...               0           1   \n",
      "4644             0               0  ...               0           1   \n",
      "20742            0               1  ...               0           0   \n",
      "\n",
      "       default_yes  housing_no  housing_yes  loan_no  loan_yes  \\\n",
      "15500            0           0            1        1         0   \n",
      "29034            0           1            0        1         0   \n",
      "11199            0           1            0        1         0   \n",
      "22247            0           1            0        1         0   \n",
      "27180            0           1            0        1         0   \n",
      "...            ...         ...          ...      ...       ...   \n",
      "20920            0           1            0        1         0   \n",
      "15744            0           0            1        0         1   \n",
      "34965            0           0            1        1         0   \n",
      "4644             0           0            1        1         0   \n",
      "20742            0           1            0        1         0   \n",
      "\n",
      "       poutcome_failure  poutcome_nonexistent  poutcome_success  \n",
      "15500                 0                     1                 0  \n",
      "29034                 1                     0                 0  \n",
      "11199                 0                     1                 0  \n",
      "22247                 0                     1                 0  \n",
      "27180                 0                     1                 0  \n",
      "...                 ...                   ...               ...  \n",
      "20920                 0                     1                 0  \n",
      "15744                 1                     0                 0  \n",
      "34965                 0                     1                 0  \n",
      "4644                  1                     0                 0  \n",
      "20742                 0                     1                 0  \n",
      "\n",
      "[12357 rows x 23 columns]\n",
      "       y\n",
      "31880  0\n",
      "38177  0\n",
      "2459   0\n",
      "756    0\n",
      "11275  0\n",
      "...   ..\n",
      "20757  0\n",
      "32103  0\n",
      "30403  1\n",
      "21243  0\n",
      "2732   0\n",
      "\n",
      "[28831 rows x 1 columns]\n",
      "       y\n",
      "15500  0\n",
      "29034  0\n",
      "11199  0\n",
      "22247  0\n",
      "27180  0\n",
      "...   ..\n",
      "20920  0\n",
      "15744  0\n",
      "34965  0\n",
      "4644   0\n",
      "20742  0\n",
      "\n",
      "[12357 rows x 1 columns]\n"
     ]
    }
   ],
   "source": [
    "#from imblearn import under_sampling, over_sampling\n",
    "\n",
    "from imblearn.over_sampling import SMOTE\n",
    "os = SMOTE(random_state=0)\n",
    "X_train, X_test, y_train, y_test = train_test_split(X, y, test_size=0.3, random_state=0)\n",
    "print(X_train)\n",
    "print(X_test)\n",
    "print(y_train)\n",
    "print(y_test)"
   ]
  },
  {
   "cell_type": "code",
   "execution_count": 24,
   "id": "3afc8cf1",
   "metadata": {},
   "outputs": [
    {
     "name": "stdout",
     "output_type": "stream",
     "text": [
      "Index(['job_admin.', 'job_blue-collar', 'job_entrepreneur', 'job_housemaid',\n",
      "       'job_management', 'job_retired', 'job_self-employed', 'job_services',\n",
      "       'job_student', 'job_technician', 'job_unemployed', 'marital_divorced',\n",
      "       'marital_married', 'marital_single', 'default_no', 'default_yes',\n",
      "       'housing_no', 'housing_yes', 'loan_no', 'loan_yes', 'poutcome_failure',\n",
      "       'poutcome_nonexistent', 'poutcome_success'],\n",
      "      dtype='object')\n"
     ]
    }
   ],
   "source": [
    "columns = X_train.columns\n",
    "print(columns)"
   ]
  },
  {
   "cell_type": "code",
   "execution_count": 25,
   "id": "53cb22e7",
   "metadata": {},
   "outputs": [
    {
     "name": "stdout",
     "output_type": "stream",
     "text": [
      "       job_admin.  job_blue-collar  job_entrepreneur  job_housemaid  \\\n",
      "0               0                0                 0              0   \n",
      "1               1                0                 0              0   \n",
      "2               0                0                 0              0   \n",
      "3               0                1                 0              0   \n",
      "4               1                0                 0              0   \n",
      "...           ...              ...               ...            ...   \n",
      "51129           0                0                 0              1   \n",
      "51130           0                0                 0              0   \n",
      "51131           0                0                 0              0   \n",
      "51132           0                0                 0              0   \n",
      "51133           0                0                 0              0   \n",
      "\n",
      "       job_management  job_retired  job_self-employed  job_services  \\\n",
      "0                   0            0                  0             0   \n",
      "1                   0            0                  0             0   \n",
      "2                   1            0                  0             0   \n",
      "3                   0            0                  0             0   \n",
      "4                   0            0                  0             0   \n",
      "...               ...          ...                ...           ...   \n",
      "51129               0            0                  0             0   \n",
      "51130               1            0                  0             0   \n",
      "51131               0            0                  0             1   \n",
      "51132               0            0                  1             0   \n",
      "51133               0            1                  0             0   \n",
      "\n",
      "       job_student  job_technician  ...  marital_single  default_no  \\\n",
      "0                0               1  ...               1           1   \n",
      "1                0               0  ...               0           1   \n",
      "2                0               0  ...               0           1   \n",
      "3                0               0  ...               0           1   \n",
      "4                0               0  ...               1           1   \n",
      "...            ...             ...  ...             ...         ...   \n",
      "51129            0               0  ...               1           1   \n",
      "51130            0               0  ...               0           0   \n",
      "51131            0               0  ...               1           1   \n",
      "51132            0               0  ...               0         250   \n",
      "51133            0               0  ...               0           1   \n",
      "\n",
      "       default_yes  housing_no  housing_yes  loan_no  loan_yes  \\\n",
      "0                0           1            0        1         0   \n",
      "1                0           0            1        1         0   \n",
      "2                0           0            1        1         0   \n",
      "3                0           1            0        1         0   \n",
      "4                0           0            1        0         1   \n",
      "...            ...         ...          ...      ...       ...   \n",
      "51129            0           0            1        1         0   \n",
      "51130            0           0            1        1         0   \n",
      "51131            0           0            1        1         0   \n",
      "51132            0           0            1        0         1   \n",
      "51133            0           0            1        1         0   \n",
      "\n",
      "       poutcome_failure  poutcome_nonexistent  poutcome_success  \n",
      "0                     1                     0                 0  \n",
      "1                     0                     1                 0  \n",
      "2                     0                     1                 0  \n",
      "3                     0                     1                 0  \n",
      "4                     1                     0                 0  \n",
      "...                 ...                   ...               ...  \n",
      "51129                 0                     1                 0  \n",
      "51130                 0                     1                 0  \n",
      "51131                 0                     0                 1  \n",
      "51132                 0                     1                 0  \n",
      "51133                 1                     0                 0  \n",
      "\n",
      "[51134 rows x 23 columns]\n",
      "       y\n",
      "0      0\n",
      "1      0\n",
      "2      0\n",
      "3      0\n",
      "4      0\n",
      "...   ..\n",
      "51129  1\n",
      "51130  1\n",
      "51131  1\n",
      "51132  1\n",
      "51133  1\n",
      "\n",
      "[51134 rows x 1 columns]\n"
     ]
    }
   ],
   "source": [
    "#On Train Data\n",
    "\n",
    "import numpy as np\n",
    "os_data_X,os_data_y=os.fit_resample(X_train, np.ravel(y_train))\n",
    "\n",
    "os_data_X = pd.DataFrame(data=os_data_X,columns=columns )\n",
    "print(os_data_X)\n",
    "os_data_y= pd.DataFrame(data=os_data_y,columns=['y'])\n",
    "print(os_data_y)"
   ]
  },
  {
   "cell_type": "code",
   "execution_count": 26,
   "id": "369de5e4",
   "metadata": {},
   "outputs": [
    {
     "name": "stdout",
     "output_type": "stream",
     "text": [
      "       job_admin.  job_blue-collar  job_entrepreneur  job_housemaid  \\\n",
      "0               0                1                 0              0   \n",
      "1               0                0                 0              0   \n",
      "2               0                1                 0              0   \n",
      "3               1                0                 0              0   \n",
      "4               0                0                 0              1   \n",
      "...           ...              ...               ...            ...   \n",
      "21957           1                0                 0              0   \n",
      "21958           1                0                 0              0   \n",
      "21959           1                0                 0              0   \n",
      "21960           1                0                 0              0   \n",
      "21961           1                0                 0              0   \n",
      "\n",
      "       job_management  job_retired  job_self-employed  job_services  \\\n",
      "0                   0            0                  0             0   \n",
      "1                   0            0                  0             0   \n",
      "2                   0            0                  0             0   \n",
      "3                   0            0                  0             0   \n",
      "4                   0            0                  0             0   \n",
      "...               ...          ...                ...           ...   \n",
      "21957               0            0                  0             0   \n",
      "21958               0            0                  0             0   \n",
      "21959               0            0                  0             0   \n",
      "21960               0            0                  0             0   \n",
      "21961               0            0                  0             0   \n",
      "\n",
      "       job_student  job_technician  ...  marital_single  default_no  \\\n",
      "0                0               0  ...               0           1   \n",
      "1                0               1  ...               0           1   \n",
      "2                0               0  ...               1           1   \n",
      "3                0               0  ...               0           1   \n",
      "4                0               0  ...               0           1   \n",
      "...            ...             ...  ...             ...         ...   \n",
      "21957            0               0  ...               0           1   \n",
      "21958            0               0  ...               1           0   \n",
      "21959            0               0  ...               0           1   \n",
      "21960            0               0  ...               0           1   \n",
      "21961            0               0  ...               0           1   \n",
      "\n",
      "       default_yes  housing_no  housing_yes  loan_no  loan_yes  \\\n",
      "0                0           0            1        1         0   \n",
      "1                0           1            0        1         0   \n",
      "2                0           1            0        1         0   \n",
      "3                0           1            0        1         0   \n",
      "4                0           1            0        1         0   \n",
      "...            ...         ...          ...      ...       ...   \n",
      "21957            0           0            1        1         0   \n",
      "21958            0           0            1        1         0   \n",
      "21959            0           1            0        1         0   \n",
      "21960            0           0            1        1         0   \n",
      "21961            0           0            1        0       210   \n",
      "\n",
      "       poutcome_failure  poutcome_nonexistent  poutcome_success  \n",
      "0                     0                     1                 0  \n",
      "1                     1                     0                 0  \n",
      "2                     0                     1                 0  \n",
      "3                     0                     1                 0  \n",
      "4                     0                     1                 0  \n",
      "...                 ...                   ...               ...  \n",
      "21957                 0                     1                 0  \n",
      "21958                 0                     0                 1  \n",
      "21959                 0                     0                 1  \n",
      "21960                 0                     1                 0  \n",
      "21961                 1                     0                 0  \n",
      "\n",
      "[21962 rows x 23 columns]\n",
      "       y\n",
      "0      0\n",
      "1      0\n",
      "2      0\n",
      "3      0\n",
      "4      0\n",
      "...   ..\n",
      "21957  1\n",
      "21958  1\n",
      "21959  1\n",
      "21960  1\n",
      "21961  1\n",
      "\n",
      "[21962 rows x 1 columns]\n"
     ]
    }
   ],
   "source": [
    "#On Test Data\n",
    "\n",
    "os_data_test_X,os_data_test_y=os.fit_resample(X_test,np.ravel( y_test))\n",
    "\n",
    "os_data_test_X = pd.DataFrame(data=os_data_test_X,columns=columns )\n",
    "print(os_data_test_X)\n",
    "os_data_test_y= pd.DataFrame(data=os_data_test_y,columns=['y'])\n",
    "print(os_data_test_y)"
   ]
  },
  {
   "cell_type": "code",
   "execution_count": 27,
   "id": "00828caa",
   "metadata": {},
   "outputs": [
    {
     "name": "stdout",
     "output_type": "stream",
     "text": [
      "length of oversampled data is  51134\n",
      "Number of no subscription in oversampled data 25567\n",
      "Number of subscription 25567\n",
      "Proportion of no subscription data in oversampled data is  0.5\n",
      "Proportion of subscription data in oversampled data is  0.5\n"
     ]
    }
   ],
   "source": [
    "# we can Check the numbers of our data\n",
    "print(\"length of oversampled data is \",len(os_data_X))\n",
    "print(\"Number of no subscription in oversampled data\",len(os_data_y[os_data_y['y']==0]))\n",
    "print(\"Number of subscription\",len(os_data_y[os_data_y['y']==1]))\n",
    "print(\"Proportion of no subscription data in oversampled data is \",len(os_data_y[os_data_y['y']==0])/len(os_data_X))\n",
    "print(\"Proportion of subscription data in oversampled data is \",len(os_data_y[os_data_y['y']==1])/len(os_data_X))"
   ]
  },
  {
   "cell_type": "code",
   "execution_count": 28,
   "id": "cab75bb6",
   "metadata": {},
   "outputs": [
    {
     "name": "stdout",
     "output_type": "stream",
     "text": [
      "length of oversampled data is  41188\n",
      "Number of no subscription in original data 36548\n",
      "Number of subscription 4640\n",
      "Proportion of no subscription data in original data is  0.8873458288821987\n",
      "Proportion of subscription data in original data is  0.11265417111780131\n"
     ]
    }
   ],
   "source": [
    "# we can Check the numbers of our data\n",
    "print(\"length of oversampled data is \",len(X))\n",
    "print(\"Number of no subscription in original data\",len(y[y['y']==0]))\n",
    "print(\"Number of subscription\",len(y[y['y']==1]))\n",
    "print(\"Proportion of no subscription data in original data is \",len(y[y['y']==0])/len(X))\n",
    "print(\"Proportion of subscription data in original data is \",len(y[y['y']==1])/len(X))"
   ]
  },
  {
   "cell_type": "markdown",
   "id": "d0709176",
   "metadata": {},
   "source": [
    "#### On the basis of above process we can say that we have balanced data."
   ]
  },
  {
   "cell_type": "markdown",
   "id": "d886c36a",
   "metadata": {},
   "source": [
    "### RFE - Recursive Feature Elimination for selecting Important Variables\n",
    "\n",
    "we are using RFE is to select features by recursively considering smaller and smaller sets of features. its works as a  repeatitive constructing modeal then its choose either the best or worst performing feature then repeating the process agian & again with the rest of the features. this process work till all the feature will worn out."
   ]
  },
  {
   "cell_type": "code",
   "execution_count": 29,
   "id": "cc5c9be0",
   "metadata": {},
   "outputs": [
    {
     "name": "stderr",
     "output_type": "stream",
     "text": [
      "C:\\ProgramData\\Anaconda3\\lib\\site-packages\\sklearn\\utils\\validation.py:70: FutureWarning: Pass n_features_to_select=20 as keyword args. From version 1.0 (renaming of 0.25) passing these as positional arguments will result in an error\n",
      "  warnings.warn(f\"Pass {args_msg} as keyword args. From version \"\n",
      "C:\\ProgramData\\Anaconda3\\lib\\site-packages\\sklearn\\linear_model\\_logistic.py:763: ConvergenceWarning: lbfgs failed to converge (status=1):\n",
      "STOP: TOTAL NO. of ITERATIONS REACHED LIMIT.\n",
      "\n",
      "Increase the number of iterations (max_iter) or scale the data as shown in:\n",
      "    https://scikit-learn.org/stable/modules/preprocessing.html\n",
      "Please also refer to the documentation for alternative solver options:\n",
      "    https://scikit-learn.org/stable/modules/linear_model.html#logistic-regression\n",
      "  n_iter_i = _check_optimize_result(\n",
      "C:\\ProgramData\\Anaconda3\\lib\\site-packages\\sklearn\\linear_model\\_logistic.py:763: ConvergenceWarning: lbfgs failed to converge (status=1):\n",
      "STOP: TOTAL NO. of ITERATIONS REACHED LIMIT.\n",
      "\n",
      "Increase the number of iterations (max_iter) or scale the data as shown in:\n",
      "    https://scikit-learn.org/stable/modules/preprocessing.html\n",
      "Please also refer to the documentation for alternative solver options:\n",
      "    https://scikit-learn.org/stable/modules/linear_model.html#logistic-regression\n",
      "  n_iter_i = _check_optimize_result(\n"
     ]
    },
    {
     "name": "stdout",
     "output_type": "stream",
     "text": [
      "[ True  True  True  True  True  True  True  True  True  True  True  True\n",
      "  True  True  True  True False False  True  True  True False  True]\n",
      "[1 1 1 1 1 1 1 1 1 1 1 1 1 1 1 1 4 3 1 1 1 2 1]\n"
     ]
    }
   ],
   "source": [
    "data_final_vars=data2.columns.values.tolist()\n",
    "y=['y']\n",
    "X=[i for i in data_final_vars if i not in y]\n",
    "\n",
    "from sklearn.feature_selection import RFE\n",
    "from sklearn.linear_model import LogisticRegression\n",
    "#log_model = LogisticRegression(solver='lbfgs', max_iter=1000)\n",
    "\n",
    "logreg = LogisticRegression()\n",
    "rfe = RFE(logreg, 20)\n",
    "rfe = rfe.fit(os_data_X, os_data_y.values.ravel())\n",
    "print(rfe.support_)\n",
    "len(rfe.ranking_)\n",
    "print(rfe.ranking_)\n"
   ]
  },
  {
   "cell_type": "code",
   "execution_count": 30,
   "id": "a4027599",
   "metadata": {},
   "outputs": [
    {
     "name": "stdout",
     "output_type": "stream",
     "text": [
      "       job_admin.  job_blue-collar  job_entrepreneur  job_housemaid  \\\n",
      "0               0                0                 0              0   \n",
      "1               1                0                 0              0   \n",
      "2               0                0                 0              0   \n",
      "3               0                1                 0              0   \n",
      "4               1                0                 0              0   \n",
      "...           ...              ...               ...            ...   \n",
      "51129           0                0                 0              1   \n",
      "51130           0                0                 0              0   \n",
      "51131           0                0                 0              0   \n",
      "51132           0                0                 0              0   \n",
      "51133           0                0                 0              0   \n",
      "\n",
      "       job_management  job_retired  job_self-employed  job_services  \\\n",
      "0                   0            0                  0             0   \n",
      "1                   0            0                  0             0   \n",
      "2                   1            0                  0             0   \n",
      "3                   0            0                  0             0   \n",
      "4                   0            0                  0             0   \n",
      "...               ...          ...                ...           ...   \n",
      "51129               0            0                  0             0   \n",
      "51130               1            0                  0             0   \n",
      "51131               0            0                  0             1   \n",
      "51132               0            0                  1             0   \n",
      "51133               0            1                  0             0   \n",
      "\n",
      "       job_student  job_technician  ...  marital_single  default_no  \\\n",
      "0                0               1  ...               1           1   \n",
      "1                0               0  ...               0           1   \n",
      "2                0               0  ...               0           1   \n",
      "3                0               0  ...               0           1   \n",
      "4                0               0  ...               1           1   \n",
      "...            ...             ...  ...             ...         ...   \n",
      "51129            0               0  ...               1           1   \n",
      "51130            0               0  ...               0           0   \n",
      "51131            0               0  ...               1           1   \n",
      "51132            0               0  ...               0         250   \n",
      "51133            0               0  ...               0           1   \n",
      "\n",
      "       default_yes  housing_no  housing_yes  loan_no  loan_yes  \\\n",
      "0                0           1            0        1         0   \n",
      "1                0           0            1        1         0   \n",
      "2                0           0            1        1         0   \n",
      "3                0           1            0        1         0   \n",
      "4                0           0            1        0         1   \n",
      "...            ...         ...          ...      ...       ...   \n",
      "51129            0           0            1        1         0   \n",
      "51130            0           0            1        1         0   \n",
      "51131            0           0            1        1         0   \n",
      "51132            0           0            1        0         1   \n",
      "51133            0           0            1        1         0   \n",
      "\n",
      "       poutcome_failure  poutcome_nonexistent  poutcome_success  \n",
      "0                     1                     0                 0  \n",
      "1                     0                     1                 0  \n",
      "2                     0                     1                 0  \n",
      "3                     0                     1                 0  \n",
      "4                     1                     0                 0  \n",
      "...                 ...                   ...               ...  \n",
      "51129                 0                     1                 0  \n",
      "51130                 0                     1                 0  \n",
      "51131                 0                     0                 1  \n",
      "51132                 0                     1                 0  \n",
      "51133                 1                     0                 0  \n",
      "\n",
      "[51134 rows x 23 columns]\n"
     ]
    }
   ],
   "source": [
    "# Fitting the Logit Model\n",
    "\n",
    "X=os_data_X\n",
    "print(X)"
   ]
  },
  {
   "cell_type": "code",
   "execution_count": 31,
   "id": "87ef009d",
   "metadata": {},
   "outputs": [
    {
     "name": "stdout",
     "output_type": "stream",
     "text": [
      "0        0\n",
      "1        0\n",
      "2        0\n",
      "3        0\n",
      "4        0\n",
      "        ..\n",
      "51129    1\n",
      "51130    1\n",
      "51131    1\n",
      "51132    1\n",
      "51133    1\n",
      "Name: y, Length: 51134, dtype: int64\n"
     ]
    }
   ],
   "source": [
    "y=os_data_y['y']\n",
    "print(y)"
   ]
  },
  {
   "cell_type": "code",
   "execution_count": 32,
   "id": "0c7aabca",
   "metadata": {},
   "outputs": [
    {
     "name": "stdout",
     "output_type": "stream",
     "text": [
      "Warning: Maximum number of iterations has been exceeded.\n",
      "         Current function value: 0.605567\n",
      "         Iterations: 35\n",
      "         Function evaluations: 39\n",
      "         Gradient evaluations: 39\n",
      "                           Results: Logit\n",
      "=====================================================================\n",
      "Model:                Logit             Pseudo R-squared:  0.126     \n",
      "Dependent Variable:   y                 AIC:               61976.1187\n",
      "Date:                 2021-08-24 14:10  BIC:               62179.4894\n",
      "No. Observations:     51134             Log-Likelihood:    -30965.   \n",
      "Df Model:             22                LL-Null:           -35443.   \n",
      "Df Residuals:         51111             LLR p-value:       0.0000    \n",
      "Converged:            0.0000            Scale:             1.0000    \n",
      "---------------------------------------------------------------------\n",
      "                      Coef.  Std.Err.    z     P>|z|   [0.025  0.975]\n",
      "---------------------------------------------------------------------\n",
      "job_admin.            0.3619   0.0240  15.0571 0.0000  0.3148  0.4090\n",
      "job_blue-collar       0.0171   0.0053   3.2332 0.0012  0.0067  0.0275\n",
      "job_entrepreneur      0.0829   0.0239   3.4708 0.0005  0.0361  0.1297\n",
      "job_housemaid         0.0800   0.0247   3.2459 0.0012  0.0317  0.1284\n",
      "job_management        0.1746   0.0355   4.9170 0.0000  0.1050  0.2441\n",
      "job_retired           1.2853   0.0449  28.6065 0.0000  1.1972  1.3733\n",
      "job_self-employed     0.1107   0.0312   3.5423 0.0004  0.0494  0.1719\n",
      "job_services          0.0381   0.0109   3.4844 0.0005  0.0167  0.0596\n",
      "job_student           1.0897   0.0612  17.8163 0.0000  0.9698  1.2096\n",
      "job_technician        0.0769   0.0236   3.2640 0.0011  0.0307  0.1231\n",
      "job_unemployed        0.2832   0.0570   4.9680 0.0000  0.1715  0.3949\n",
      "marital_divorced      0.0433   0.0110   3.9349 0.0001  0.0217  0.0648\n",
      "marital_married       0.0090   0.0061   1.4880 0.1368 -0.0029  0.0210\n",
      "marital_single        0.2144   0.0226   9.4847 0.0000  0.1701  0.2587\n",
      "default_no            0.3433   0.0235  14.6333 0.0000  0.2973  0.3893\n",
      "default_yes          -0.0026   2.0121  -0.0013 0.9990 -3.9463  3.9410\n",
      "housing_no            0.0148   0.0058   2.5428 0.0110  0.0034  0.0261\n",
      "housing_yes           0.0144   0.0094   1.5235 0.1276 -0.0041  0.0328\n",
      "loan_no              -0.1127   0.0228  -4.9531 0.0000 -0.1573 -0.0681\n",
      "loan_yes              0.0231   0.0042   5.4644 0.0000  0.0148  0.0314\n",
      "poutcome_failure      0.0198   0.0047   4.1908 0.0000  0.0105  0.0290\n",
      "poutcome_nonexistent -0.8307   0.0237 -35.1261 0.0000 -0.8771 -0.7844\n",
      "poutcome_success      1.7717   0.0602  29.4458 0.0000  1.6538  1.8897\n",
      "=====================================================================\n",
      "\n"
     ]
    },
    {
     "name": "stderr",
     "output_type": "stream",
     "text": [
      "C:\\ProgramData\\Anaconda3\\lib\\site-packages\\statsmodels\\base\\model.py:566: ConvergenceWarning: Maximum Likelihood optimization failed to converge. Check mle_retvals\n",
      "  warnings.warn(\"Maximum Likelihood optimization failed to \"\n"
     ]
    }
   ],
   "source": [
    "import statsmodels.api as sm\n",
    "logit_model=sm.Logit(y,X)\n",
    "result=logit_model.fit(method='bfgs')\n",
    "print(result.summary2())"
   ]
  },
  {
   "cell_type": "code",
   "execution_count": 33,
   "id": "c7829d03",
   "metadata": {},
   "outputs": [
    {
     "name": "stderr",
     "output_type": "stream",
     "text": [
      "C:\\ProgramData\\Anaconda3\\lib\\site-packages\\sklearn\\utils\\validation.py:63: DataConversionWarning: A column-vector y was passed when a 1d array was expected. Please change the shape of y to (n_samples, ), for example using ravel().\n",
      "  return f(*args, **kwargs)\n"
     ]
    },
    {
     "data": {
      "text/plain": [
       "LogisticRegression(random_state=0)"
      ]
     },
     "execution_count": 33,
     "metadata": {},
     "output_type": "execute_result"
    }
   ],
   "source": [
    "# Fitting the Logistic Model\n",
    "\n",
    "#Without SMOTE\n",
    "classifier = LogisticRegression(random_state=0)\n",
    "classifier.fit(X_train, y_train)\n"
   ]
  },
  {
   "cell_type": "code",
   "execution_count": 34,
   "id": "f822b624",
   "metadata": {},
   "outputs": [
    {
     "name": "stdout",
     "output_type": "stream",
     "text": [
      "[0 0 0 ... 0 0 0]\n",
      "[0 0 0 ... 0 0 0]\n"
     ]
    }
   ],
   "source": [
    "y_pred = classifier.predict(X_test)\n",
    "print(y_pred)\n",
    "y_pred_train = classifier.predict(X_train)\n",
    "print(y_pred)"
   ]
  },
  {
   "cell_type": "code",
   "execution_count": 35,
   "id": "a0873be6",
   "metadata": {},
   "outputs": [
    {
     "name": "stdout",
     "output_type": "stream",
     "text": [
      "[[10850   131]\n",
      " [ 1104   272]]\n",
      "Accuracy of logistic regression classifier on test set: 0.90\n",
      "              precision    recall  f1-score   support\n",
      "\n",
      "           0       0.91      0.99      0.95     10981\n",
      "           1       0.67      0.20      0.31      1376\n",
      "\n",
      "    accuracy                           0.90     12357\n",
      "   macro avg       0.79      0.59      0.63     12357\n",
      "weighted avg       0.88      0.90      0.87     12357\n",
      "\n"
     ]
    }
   ],
   "source": [
    "# Evaluating the Logistic Model Without SMOTE\n",
    "\n",
    "from sklearn.metrics import confusion_matrix\n",
    "confusion_matrix = confusion_matrix(y_test, y_pred)\n",
    "\n",
    "print(confusion_matrix)\n",
    "\n",
    "print('Accuracy of logistic regression classifier on test set: {:.2f}'.format(classifier.score(X_test, y_test)))\n",
    "\n",
    "from sklearn.metrics import classification_report\n",
    "print(classification_report(y_test, y_pred))"
   ]
  },
  {
   "cell_type": "code",
   "execution_count": 36,
   "id": "a517c1f8",
   "metadata": {},
   "outputs": [
    {
     "name": "stdout",
     "output_type": "stream",
     "text": [
      "[0 1 0 ... 1 0 1]\n",
      "[1 0 0 ... 1 1 1]\n"
     ]
    },
    {
     "name": "stderr",
     "output_type": "stream",
     "text": [
      "C:\\ProgramData\\Anaconda3\\lib\\site-packages\\sklearn\\linear_model\\_logistic.py:763: ConvergenceWarning: lbfgs failed to converge (status=1):\n",
      "STOP: TOTAL NO. of ITERATIONS REACHED LIMIT.\n",
      "\n",
      "Increase the number of iterations (max_iter) or scale the data as shown in:\n",
      "    https://scikit-learn.org/stable/modules/preprocessing.html\n",
      "Please also refer to the documentation for alternative solver options:\n",
      "    https://scikit-learn.org/stable/modules/linear_model.html#logistic-regression\n",
      "  n_iter_i = _check_optimize_result(\n"
     ]
    }
   ],
   "source": [
    "# Evaluating the Logistic Model With SMOTE\n",
    "\n",
    "classifier_SM = LogisticRegression(random_state=0)\n",
    "classifier_SM.fit(X, y)\n",
    "\n",
    "y_pred_SM = classifier_SM.predict(os_data_test_X)\n",
    "print(y_pred_SM)\n",
    "y_pred_train_SM = classifier_SM.predict(X)\n",
    "print(y_pred_train_SM)"
   ]
  },
  {
   "cell_type": "code",
   "execution_count": 37,
   "id": "583e3d27",
   "metadata": {},
   "outputs": [
    {
     "name": "stdout",
     "output_type": "stream",
     "text": [
      "[[9151 1830]\n",
      " [5569 5412]]\n",
      "Accuracy of logistic regression classifier on test set: 0.90\n",
      "              precision    recall  f1-score   support\n",
      "\n",
      "           0       0.62      0.83      0.71     10981\n",
      "           1       0.75      0.49      0.59     10981\n",
      "\n",
      "    accuracy                           0.66     21962\n",
      "   macro avg       0.68      0.66      0.65     21962\n",
      "weighted avg       0.68      0.66      0.65     21962\n",
      "\n"
     ]
    }
   ],
   "source": [
    "from sklearn.metrics import confusion_matrix\n",
    "confusion_matrix_SM = confusion_matrix(os_data_test_y, y_pred_SM)\n",
    "\n",
    "print(confusion_matrix_SM)\n",
    "print('Accuracy of logistic regression classifier on test set: {:.2f}'.format(classifier.score(X_test, y_test)))\n",
    "\n",
    "\n",
    "from sklearn.metrics import classification_report\n",
    "print(classification_report(os_data_test_y, y_pred_SM))"
   ]
  },
  {
   "cell_type": "code",
   "execution_count": null,
   "id": "13fef29c",
   "metadata": {},
   "outputs": [],
   "source": []
  }
 ],
 "metadata": {
  "kernelspec": {
   "display_name": "Python 3",
   "language": "python",
   "name": "python3"
  },
  "language_info": {
   "codemirror_mode": {
    "name": "ipython",
    "version": 3
   },
   "file_extension": ".py",
   "mimetype": "text/x-python",
   "name": "python",
   "nbconvert_exporter": "python",
   "pygments_lexer": "ipython3",
   "version": "3.8.8"
  }
 },
 "nbformat": 4,
 "nbformat_minor": 5
}
